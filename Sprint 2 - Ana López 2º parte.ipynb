{
 "cells": [
  {
   "cell_type": "markdown",
   "id": "d366350b",
   "metadata": {},
   "source": [
    "# Sprint 2 - Ana Belén López\n",
    "\n",
    "# Tasca M2 T02"
   ]
  },
  {
   "cell_type": "markdown",
   "id": "a46ac668",
   "metadata": {},
   "source": [
    "# EJERCICIO 1\n",
    "\n",
    "L'exercici consisteix a crear un programa que et classifiqui una variable numèrica en funció de l’escala Suspès/Aprovat/Notable/Excel·lent.\n",
    "\n",
    "Recorda que Suspès < 5, Aprovat > 5 i < 7, Notable > 7 i < 9 i Excel·lent > 9."
   ]
  },
  {
   "cell_type": "markdown",
   "id": "d900ed83",
   "metadata": {},
   "source": [
    "# EJERCICIO 2\n",
    "\n",
    "Utilitzant el següent tutorial crea un programa que et pregunti dos números. T’ha de mostrar un missatge dient si el primer és més gran, el segon és més gran o són iguals."
   ]
  },
  {
   "cell_type": "markdown",
   "id": "4bd260c1",
   "metadata": {},
   "source": [
    "# EJERCICIO 3\n",
    "\n",
    "Crea un programa que et pregunti el teu nom, i et demani un número. Si el número és 0, hauria de mostrar un missatge d’error. En cas contrari, hauria de mostrar el nom repetit tants cops com indiqui el número. Per exemple, “Joan Joan Joan”."
   ]
  },
  {
   "cell_type": "markdown",
   "id": "275776ac",
   "metadata": {},
   "source": [
    "# EJERCICIO 4 \n",
    "\n",
    "Crea un programa que donada una llista qualsevol, et digui si és simètrica o no. Si ho és, que et digui quants elements té."
   ]
  },
  {
   "cell_type": "markdown",
   "id": "9d22eb30",
   "metadata": {},
   "source": [
    "# EJERCICIO 5\n",
    "\n",
    "Crea un programa que donada una llista, et digui quants números coincideixen amb la seva posició. Per exemple [3,4,2,0,2,3,6] el 2 i el 6 coincideixen."
   ]
  },
  {
   "cell_type": "code",
   "execution_count": 1,
   "id": "380cff4b",
   "metadata": {},
   "outputs": [
    {
     "name": "stdout",
     "output_type": "stream",
     "text": [
      "2\n",
      "5\n",
      "9\n"
     ]
    }
   ],
   "source": [
    "mi_lista = [3,6,2,7,8,5,3,2,4,9,7,9]\n",
    "for i in range(len(mi_lista)):\n",
    "    if mi_lista[i] == i:\n",
    "        print(mi_lista[i])"
   ]
  }
 ],
 "metadata": {
  "kernelspec": {
   "display_name": "Python 3 (ipykernel)",
   "language": "python",
   "name": "python3"
  },
  "language_info": {
   "codemirror_mode": {
    "name": "ipython",
    "version": 3
   },
   "file_extension": ".py",
   "mimetype": "text/x-python",
   "name": "python",
   "nbconvert_exporter": "python",
   "pygments_lexer": "ipython3",
   "version": "3.9.12"
  }
 },
 "nbformat": 4,
 "nbformat_minor": 5
}
