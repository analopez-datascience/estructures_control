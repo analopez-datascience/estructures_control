{
 "cells": [
  {
   "cell_type": "markdown",
   "id": "d366350b",
   "metadata": {},
   "source": [
    "# Sprint 2 - Ana Belén López\n",
    "\n",
    "# Tasca M2 T02"
   ]
  },
  {
   "cell_type": "markdown",
   "id": "a46ac668",
   "metadata": {},
   "source": [
    "# EJERCICIO 1\n",
    "\n",
    "L'exercici consisteix a crear un programa que et classifiqui una variable numèrica en funció de l’escala Suspès/Aprovat/Notable/Excel·lent.\n",
    "\n",
    "Recorda que Suspès < 5, Aprovat > 5 i < 7, Notable > 7 i < 9 i Excel·lent > 9."
   ]
  },
  {
   "cell_type": "code",
   "execution_count": 13,
   "id": "5d80915b",
   "metadata": {},
   "outputs": [
    {
     "name": "stdout",
     "output_type": "stream",
     "text": [
      "Nota aleatoria:  7\n",
      "Calificacion  NOTABLE\n"
     ]
    }
   ],
   "source": [
    "import random\n",
    "\n",
    "def calificacion(nota):\n",
    "    if nota < 5:\n",
    "        return \"SUSPENSO\"\n",
    "    elif nota > 8: \n",
    "        return \"EXCELENTE\"\n",
    "    elif nota >= 5 and nota <7:\n",
    "        return \"APROBADO\"\n",
    "    else:\n",
    "        return \"NOTABLE\"\n",
    "    \n",
    "x = random.randint(0,10)\n",
    "print(\"Nota aleatoria: \", x)\n",
    "print (\"Calificacion \", calificacion(x))"
   ]
  },
  {
   "cell_type": "markdown",
   "id": "7b51070d",
   "metadata": {},
   "source": [
    "Explicación: Utilizamos el import random para obtener variables aleatorias, con el atributo .radint para que nos dé siempre números enteros. Definimos la función que recorrerá el condicional que nos retornará la etiqueta (suspenso, aprobado..) que corresponda a cada calificación."
   ]
  },
  {
   "cell_type": "markdown",
   "id": "d900ed83",
   "metadata": {},
   "source": [
    "# EJERCICIO 2\n",
    "\n",
    "Utilitzant el següent tutorial crea un programa que et pregunti dos números. T’ha de mostrar un missatge dient si el primer és més gran, el segon és més gran o són iguals."
   ]
  },
  {
   "cell_type": "code",
   "execution_count": 49,
   "id": "d69da842",
   "metadata": {},
   "outputs": [
    {
     "name": "stdout",
     "output_type": "stream",
     "text": [
      "Escribe un número: 3\n",
      "Escribe otro número: 1\n",
      "El primer número que has escrito es mayor que el segundo\n"
     ]
    }
   ],
   "source": [
    "num1 = int(input(\"Escribe un número: \"))\n",
    "num2 = int(input(\"Escribe otro número: \"))\n",
    "\n",
    "if num1>num2:\n",
    "    text = \"El primer número que has escrito es mayor que el segundo\"\n",
    "elif num1<num2:\n",
    "    text = \"El segundo número que has escrito es mayor que el primero\"\n",
    "else:\n",
    "    text = \"Ambos números son iguales\"\n",
    "print(text)\n",
    "    \n"
   ]
  },
  {
   "cell_type": "markdown",
   "id": "192658e4",
   "metadata": {},
   "source": [
    "Explicación: Pedimos por pantalla nos dos números a través del input, que \"guardaremos\" como num1 y num2, esos número los \"pasaremos\" por un condicional if/elif que nos retornará un texto según sea comparandolos, que finalmente imprimiremos. "
   ]
  },
  {
   "cell_type": "markdown",
   "id": "4bd260c1",
   "metadata": {},
   "source": [
    "# EJERCICIO 3\n",
    "\n",
    "Crea un programa que et pregunti el teu nom, i et demani un número. Si el número és 0, hauria de mostrar un missatge d’error. En cas contrari, hauria de mostrar el nom repetit tants cops com indiqui el número. Per exemple, “Joan Joan Joan”."
   ]
  },
  {
   "cell_type": "code",
   "execution_count": 45,
   "id": "21bc2111",
   "metadata": {},
   "outputs": [
    {
     "name": "stdout",
     "output_type": "stream",
     "text": [
      "Escribe tu nombre: Ana\n",
      "Escribe un número aleatorio: 7\n",
      "Ana\n",
      "Ana\n",
      "Ana\n",
      "Ana\n",
      "Ana\n",
      "Ana\n",
      "Ana\n"
     ]
    }
   ],
   "source": [
    "name = str(input(\"Escribe tu nombre: \"))\n",
    "num = input(\"Escribe un número aleatorio: \")\n",
    "\n",
    "def repeat_name(name,num):\n",
    "    num = int(num)\n",
    "    if num <=0:\n",
    "        text = \"ERROR\"\n",
    "    else:\n",
    "        for i in range(num):\n",
    "            text = print(name)\n",
    "    return text\n",
    "\n",
    "repeat_name(name,num)"
   ]
  },
  {
   "cell_type": "markdown",
   "id": "dd7b1d24",
   "metadata": {},
   "source": [
    "Explicación: Solicitamos por pantalla un nombre y un número aleatorio. Definimos la función a la que llamamos \"repeat_name\", en el que si el número introducido es 0, se mostrará el texto del error y si se trata de otro número se mostrará por pantalla el \"for i in range\" para sacar por pantalla la secuencia de texto del name correspondiente al número ve veces del num."
   ]
  },
  {
   "cell_type": "markdown",
   "id": "275776ac",
   "metadata": {},
   "source": [
    "# EJERCICIO 4 \n",
    "\n",
    "Crea un programa que donada una llista qualsevol, et digui si és simètrica o no. Si ho és, que et digui quants elements té."
   ]
  },
  {
   "cell_type": "code",
   "execution_count": 44,
   "id": "3ae3e040",
   "metadata": {},
   "outputs": [
    {
     "name": "stdout",
     "output_type": "stream",
     "text": [
      "La lista es simétrica, con 6 elementos.\n"
     ]
    }
   ],
   "source": [
    "lista = [2,5,8,8,5,2]\n",
    "lista_inversa = lista.copy()\n",
    "lista_inversa.reverse()\n",
    "\n",
    "if lista == lista_inversa:\n",
    "    print(\"La lista es simétrica, con {0} elementos.\".format(len(lista))) \n",
    "else: \n",
    "    print(\"La lista no es simétrica, con {0} elementos.\".format(len(lista)))\n",
    "\n"
   ]
  },
  {
   "cell_type": "markdown",
   "id": "301e5962",
   "metadata": {},
   "source": [
    "Explicación: Damos una lista y hacemos una copia que se llamará lista inversa, le aplicamos el método .reverse, si estas dos lista son iguales se mostrará por pantalla.\n",
    "\n",
    "Utilizamos la función .format con el método len, que nos va a permitir conocer el número de elementos de la lista. "
   ]
  },
  {
   "cell_type": "markdown",
   "id": "9d22eb30",
   "metadata": {},
   "source": [
    "# EJERCICIO 5\n",
    "\n",
    "Crea un programa que donada una llista, et digui quants números coincideixen amb la seva posició. Per exemple [3,4,2,0,2,3,6] el 2 i el 6 coincideixen."
   ]
  },
  {
   "cell_type": "code",
   "execution_count": 1,
   "id": "380cff4b",
   "metadata": {},
   "outputs": [
    {
     "name": "stdout",
     "output_type": "stream",
     "text": [
      "2\n",
      "5\n",
      "9\n"
     ]
    }
   ],
   "source": [
    "mi_lista = [3,6,2,7,8,5,3,2,4,9,7,9]\n",
    "for i in range(len(mi_lista)):\n",
    "    if mi_lista[i] == i:\n",
    "        print(mi_lista[i])"
   ]
  },
  {
   "cell_type": "markdown",
   "id": "a14b747d",
   "metadata": {},
   "source": [
    "Explicación: Damos una lista y utilizamos el bucle for para \"recorrer\" la lista, añadiendole la función range con el método len para ir \"imprimiendo\" cuando la posición de la lista (index) coincida con el elemento de la misma."
   ]
  }
 ],
 "metadata": {
  "kernelspec": {
   "display_name": "Python 3 (ipykernel)",
   "language": "python",
   "name": "python3"
  },
  "language_info": {
   "codemirror_mode": {
    "name": "ipython",
    "version": 3
   },
   "file_extension": ".py",
   "mimetype": "text/x-python",
   "name": "python",
   "nbconvert_exporter": "python",
   "pygments_lexer": "ipython3",
   "version": "3.9.12"
  }
 },
 "nbformat": 4,
 "nbformat_minor": 5
}
